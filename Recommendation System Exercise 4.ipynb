{
 "cells": [
  {
   "cell_type": "code",
   "execution_count": 1,
   "metadata": {},
   "outputs": [],
   "source": [
    "#CS19MDS11017\n",
    "#Shravya Ch\n",
    "#recommendation systems assignment exercise 4"
   ]
  },
  {
   "cell_type": "code",
   "execution_count": 1,
   "metadata": {},
   "outputs": [],
   "source": [
    "#importing packages\n",
    "import pandas as pd \n",
    "import numpy as np \n",
    "import seaborn as sns\n",
    "import matplotlib.pyplot as plt\n",
    "%matplotlib inline"
   ]
  },
  {
   "cell_type": "code",
   "execution_count": 2,
   "metadata": {},
   "outputs": [
    {
     "data": {
      "text/html": [
       "<div>\n",
       "<style scoped>\n",
       "    .dataframe tbody tr th:only-of-type {\n",
       "        vertical-align: middle;\n",
       "    }\n",
       "\n",
       "    .dataframe tbody tr th {\n",
       "        vertical-align: top;\n",
       "    }\n",
       "\n",
       "    .dataframe thead th {\n",
       "        text-align: right;\n",
       "    }\n",
       "</style>\n",
       "<table border=\"1\" class=\"dataframe\">\n",
       "  <thead>\n",
       "    <tr style=\"text-align: right;\">\n",
       "      <th></th>\n",
       "      <th>The Situation Room with Wolf Blitzer</th>\n",
       "      <th>NBC Nightly News</th>\n",
       "      <th>Dancing with the Stars</th>\n",
       "      <th>The Colbert Report</th>\n",
       "      <th>Larry King Live</th>\n",
       "      <th>Everybody Loves Raymond</th>\n",
       "      <th>NHL Hockey</th>\n",
       "      <th>Campbell Brown: No Bias, No Bull</th>\n",
       "      <th>NBA Basketball</th>\n",
       "      <th>Two and a Half Men</th>\n",
       "      <th>...</th>\n",
       "      <th>Dragon Tales</th>\n",
       "      <th>FOX News Sunday with Chris Wallace</th>\n",
       "      <th>Boston Legal</th>\n",
       "      <th>The Wedding Date</th>\n",
       "      <th>Intervention</th>\n",
       "      <th>The Unusuals</th>\n",
       "      <th>The People's Court</th>\n",
       "      <th>Never Back Down</th>\n",
       "      <th>Da Vinci's Inquest</th>\n",
       "      <th>Cardinals Live</th>\n",
       "    </tr>\n",
       "  </thead>\n",
       "  <tbody>\n",
       "    <tr>\n",
       "      <th>0</th>\n",
       "      <td>1</td>\n",
       "      <td>1</td>\n",
       "      <td>1</td>\n",
       "      <td>1</td>\n",
       "      <td>1</td>\n",
       "      <td>1</td>\n",
       "      <td>1</td>\n",
       "      <td>1</td>\n",
       "      <td>1</td>\n",
       "      <td>1</td>\n",
       "      <td>...</td>\n",
       "      <td>0</td>\n",
       "      <td>0</td>\n",
       "      <td>0</td>\n",
       "      <td>0</td>\n",
       "      <td>0</td>\n",
       "      <td>0</td>\n",
       "      <td>0</td>\n",
       "      <td>0</td>\n",
       "      <td>0</td>\n",
       "      <td>0</td>\n",
       "    </tr>\n",
       "    <tr>\n",
       "      <th>1</th>\n",
       "      <td>0</td>\n",
       "      <td>0</td>\n",
       "      <td>0</td>\n",
       "      <td>0</td>\n",
       "      <td>0</td>\n",
       "      <td>0</td>\n",
       "      <td>0</td>\n",
       "      <td>0</td>\n",
       "      <td>0</td>\n",
       "      <td>0</td>\n",
       "      <td>...</td>\n",
       "      <td>0</td>\n",
       "      <td>0</td>\n",
       "      <td>0</td>\n",
       "      <td>0</td>\n",
       "      <td>0</td>\n",
       "      <td>0</td>\n",
       "      <td>0</td>\n",
       "      <td>0</td>\n",
       "      <td>0</td>\n",
       "      <td>0</td>\n",
       "    </tr>\n",
       "    <tr>\n",
       "      <th>2</th>\n",
       "      <td>0</td>\n",
       "      <td>0</td>\n",
       "      <td>0</td>\n",
       "      <td>0</td>\n",
       "      <td>0</td>\n",
       "      <td>0</td>\n",
       "      <td>0</td>\n",
       "      <td>0</td>\n",
       "      <td>0</td>\n",
       "      <td>1</td>\n",
       "      <td>...</td>\n",
       "      <td>0</td>\n",
       "      <td>0</td>\n",
       "      <td>0</td>\n",
       "      <td>0</td>\n",
       "      <td>0</td>\n",
       "      <td>0</td>\n",
       "      <td>0</td>\n",
       "      <td>0</td>\n",
       "      <td>0</td>\n",
       "      <td>0</td>\n",
       "    </tr>\n",
       "    <tr>\n",
       "      <th>3</th>\n",
       "      <td>0</td>\n",
       "      <td>0</td>\n",
       "      <td>0</td>\n",
       "      <td>0</td>\n",
       "      <td>0</td>\n",
       "      <td>0</td>\n",
       "      <td>0</td>\n",
       "      <td>0</td>\n",
       "      <td>0</td>\n",
       "      <td>0</td>\n",
       "      <td>...</td>\n",
       "      <td>0</td>\n",
       "      <td>0</td>\n",
       "      <td>0</td>\n",
       "      <td>0</td>\n",
       "      <td>0</td>\n",
       "      <td>0</td>\n",
       "      <td>0</td>\n",
       "      <td>0</td>\n",
       "      <td>0</td>\n",
       "      <td>0</td>\n",
       "    </tr>\n",
       "    <tr>\n",
       "      <th>4</th>\n",
       "      <td>1</td>\n",
       "      <td>1</td>\n",
       "      <td>0</td>\n",
       "      <td>0</td>\n",
       "      <td>1</td>\n",
       "      <td>0</td>\n",
       "      <td>0</td>\n",
       "      <td>0</td>\n",
       "      <td>0</td>\n",
       "      <td>0</td>\n",
       "      <td>...</td>\n",
       "      <td>0</td>\n",
       "      <td>0</td>\n",
       "      <td>0</td>\n",
       "      <td>0</td>\n",
       "      <td>0</td>\n",
       "      <td>0</td>\n",
       "      <td>0</td>\n",
       "      <td>0</td>\n",
       "      <td>0</td>\n",
       "      <td>0</td>\n",
       "    </tr>\n",
       "  </tbody>\n",
       "</table>\n",
       "<p>5 rows × 563 columns</p>\n",
       "</div>"
      ],
      "text/plain": [
       "   The Situation Room with Wolf Blitzer  NBC Nightly News  \\\n",
       "0                                     1                 1   \n",
       "1                                     0                 0   \n",
       "2                                     0                 0   \n",
       "3                                     0                 0   \n",
       "4                                     1                 1   \n",
       "\n",
       "   Dancing with the Stars  The Colbert Report  Larry King Live  \\\n",
       "0                       1                   1                1   \n",
       "1                       0                   0                0   \n",
       "2                       0                   0                0   \n",
       "3                       0                   0                0   \n",
       "4                       0                   0                1   \n",
       "\n",
       "   Everybody Loves Raymond  NHL Hockey  Campbell Brown: No Bias, No Bull  \\\n",
       "0                        1           1                                 1   \n",
       "1                        0           0                                 0   \n",
       "2                        0           0                                 0   \n",
       "3                        0           0                                 0   \n",
       "4                        0           0                                 0   \n",
       "\n",
       "   NBA Basketball  Two and a Half Men  ...  Dragon Tales  \\\n",
       "0               1                   1  ...             0   \n",
       "1               0                   0  ...             0   \n",
       "2               0                   1  ...             0   \n",
       "3               0                   0  ...             0   \n",
       "4               0                   0  ...             0   \n",
       "\n",
       "   FOX News Sunday with Chris Wallace  Boston Legal  The Wedding Date  \\\n",
       "0                                   0             0                 0   \n",
       "1                                   0             0                 0   \n",
       "2                                   0             0                 0   \n",
       "3                                   0             0                 0   \n",
       "4                                   0             0                 0   \n",
       "\n",
       "   Intervention  The Unusuals  The People's Court  Never Back Down  \\\n",
       "0             0             0                   0                0   \n",
       "1             0             0                   0                0   \n",
       "2             0             0                   0                0   \n",
       "3             0             0                   0                0   \n",
       "4             0             0                   0                0   \n",
       "\n",
       "   Da Vinci's Inquest  Cardinals Live  \n",
       "0                   0               0  \n",
       "1                   0               0  \n",
       "2                   0               0  \n",
       "3                   0               0  \n",
       "4                   0               0  \n",
       "\n",
       "[5 rows x 563 columns]"
      ]
     },
     "execution_count": 2,
     "metadata": {},
     "output_type": "execute_result"
    }
   ],
   "source": [
    "#reading the data and items as columns for dataframe\n",
    "data = pd.read_csv('C://Users//home//Downloads//dataset//user-shows.txt',header = None,sep=' ')\n",
    "cols = pd.read_csv('C://Users//home//Downloads//dataset//shows.txt',header = None)\n",
    "data.columns = list(cols[0])\n",
    "data.head()"
   ]
  },
  {
   "cell_type": "code",
   "execution_count": 3,
   "metadata": {},
   "outputs": [
    {
     "data": {
      "text/plain": [
       "(9985, 563)"
      ]
     },
     "execution_count": 3,
     "metadata": {},
     "output_type": "execute_result"
    }
   ],
   "source": [
    "data.shape"
   ]
  },
  {
   "cell_type": "code",
   "execution_count": 3,
   "metadata": {},
   "outputs": [
    {
     "data": {
      "text/html": [
       "<div>\n",
       "<style scoped>\n",
       "    .dataframe tbody tr th:only-of-type {\n",
       "        vertical-align: middle;\n",
       "    }\n",
       "\n",
       "    .dataframe tbody tr th {\n",
       "        vertical-align: top;\n",
       "    }\n",
       "\n",
       "    .dataframe thead th {\n",
       "        text-align: right;\n",
       "    }\n",
       "</style>\n",
       "<table border=\"1\" class=\"dataframe\">\n",
       "  <thead>\n",
       "    <tr style=\"text-align: right;\">\n",
       "      <th></th>\n",
       "      <th>The Situation Room with Wolf Blitzer</th>\n",
       "      <th>NBC Nightly News</th>\n",
       "      <th>Dancing with the Stars</th>\n",
       "      <th>The Colbert Report</th>\n",
       "      <th>Larry King Live</th>\n",
       "      <th>Everybody Loves Raymond</th>\n",
       "      <th>NHL Hockey</th>\n",
       "      <th>Campbell Brown: No Bias, No Bull</th>\n",
       "      <th>NBA Basketball</th>\n",
       "      <th>Two and a Half Men</th>\n",
       "      <th>...</th>\n",
       "      <th>CSI: NY</th>\n",
       "      <th>The Biggest Loser 7: Couples</th>\n",
       "      <th>Naked Science</th>\n",
       "      <th>Meet the Press</th>\n",
       "      <th>Early Today</th>\n",
       "      <th>Gangland</th>\n",
       "      <th>FOX 28 News at 10pm</th>\n",
       "      <th>That '70s Show</th>\n",
       "      <th>Frasier</th>\n",
       "      <th>Sex and the City</th>\n",
       "    </tr>\n",
       "  </thead>\n",
       "  <tbody>\n",
       "    <tr>\n",
       "      <th>19</th>\n",
       "      <td>0</td>\n",
       "      <td>0</td>\n",
       "      <td>0</td>\n",
       "      <td>0</td>\n",
       "      <td>0</td>\n",
       "      <td>0</td>\n",
       "      <td>0</td>\n",
       "      <td>0</td>\n",
       "      <td>0</td>\n",
       "      <td>0</td>\n",
       "      <td>...</td>\n",
       "      <td>0</td>\n",
       "      <td>0</td>\n",
       "      <td>0</td>\n",
       "      <td>0</td>\n",
       "      <td>0</td>\n",
       "      <td>0</td>\n",
       "      <td>1</td>\n",
       "      <td>0</td>\n",
       "      <td>0</td>\n",
       "      <td>0</td>\n",
       "    </tr>\n",
       "  </tbody>\n",
       "</table>\n",
       "<p>1 rows × 100 columns</p>\n",
       "</div>"
      ],
      "text/plain": [
       "    The Situation Room with Wolf Blitzer  NBC Nightly News  \\\n",
       "19                                     0                 0   \n",
       "\n",
       "    Dancing with the Stars  The Colbert Report  Larry King Live  \\\n",
       "19                       0                   0                0   \n",
       "\n",
       "    Everybody Loves Raymond  NHL Hockey  Campbell Brown: No Bias, No Bull  \\\n",
       "19                        0           0                                 0   \n",
       "\n",
       "    NBA Basketball  Two and a Half Men  ...  CSI: NY  \\\n",
       "19               0                   0  ...        0   \n",
       "\n",
       "    The Biggest Loser 7: Couples  Naked Science  Meet the Press  Early Today  \\\n",
       "19                             0              0               0            0   \n",
       "\n",
       "    Gangland  FOX 28 News at 10pm  That '70s Show  Frasier  Sex and the City  \n",
       "19         0                    1               0        0                 0  \n",
       "\n",
       "[1 rows x 100 columns]"
      ]
     },
     "execution_count": 3,
     "metadata": {},
     "output_type": "execute_result"
    }
   ],
   "source": [
    "#data of 20th user till 100 shows for testing purpose \n",
    "test = data.iloc[19:20,0:100].copy()\n",
    "test"
   ]
  },
  {
   "cell_type": "code",
   "execution_count": 4,
   "metadata": {},
   "outputs": [
    {
     "name": "stderr",
     "output_type": "stream",
     "text": [
      "C:\\Anaconda\\lib\\site-packages\\numpy\\core\\fromnumeric.py:61: FutureWarning: Series.nonzero() is deprecated and will be removed in a future version.Use Series.to_numpy().nonzero() instead\n",
      "  return bound(*args, **kwds)\n"
     ]
    },
    {
     "data": {
      "text/plain": [
       "65"
      ]
     },
     "execution_count": 4,
     "metadata": {},
     "output_type": "execute_result"
    }
   ],
   "source": [
    "#total number of movies watched by user 20\n",
    "actuals = data.columns[np.nonzero(data.iloc[19])].tolist()\n",
    "len(actuals)"
   ]
  },
  {
   "cell_type": "code",
   "execution_count": 5,
   "metadata": {},
   "outputs": [
    {
     "data": {
      "text/plain": [
       "19"
      ]
     },
     "execution_count": 5,
     "metadata": {},
     "output_type": "execute_result"
    }
   ],
   "source": [
    "#total number of movies watched among the first 100 by user 20\n",
    "actuals_100 = data.columns[np.nonzero(data.iloc[19,0:100])].tolist()\n",
    "len(actuals_100)"
   ]
  },
  {
   "cell_type": "code",
   "execution_count": 6,
   "metadata": {},
   "outputs": [
    {
     "data": {
      "text/html": [
       "<div>\n",
       "<style scoped>\n",
       "    .dataframe tbody tr th:only-of-type {\n",
       "        vertical-align: middle;\n",
       "    }\n",
       "\n",
       "    .dataframe tbody tr th {\n",
       "        vertical-align: top;\n",
       "    }\n",
       "\n",
       "    .dataframe thead th {\n",
       "        text-align: right;\n",
       "    }\n",
       "</style>\n",
       "<table border=\"1\" class=\"dataframe\">\n",
       "  <thead>\n",
       "    <tr style=\"text-align: right;\">\n",
       "      <th></th>\n",
       "      <th>The Situation Room with Wolf Blitzer</th>\n",
       "      <th>NBC Nightly News</th>\n",
       "      <th>Dancing with the Stars</th>\n",
       "      <th>The Colbert Report</th>\n",
       "      <th>Larry King Live</th>\n",
       "      <th>Everybody Loves Raymond</th>\n",
       "      <th>NHL Hockey</th>\n",
       "      <th>Campbell Brown: No Bias, No Bull</th>\n",
       "      <th>NBA Basketball</th>\n",
       "      <th>Two and a Half Men</th>\n",
       "      <th>...</th>\n",
       "      <th>CSI: NY</th>\n",
       "      <th>The Biggest Loser 7: Couples</th>\n",
       "      <th>Naked Science</th>\n",
       "      <th>Meet the Press</th>\n",
       "      <th>Early Today</th>\n",
       "      <th>Gangland</th>\n",
       "      <th>FOX 28 News at 10pm</th>\n",
       "      <th>That '70s Show</th>\n",
       "      <th>Frasier</th>\n",
       "      <th>Sex and the City</th>\n",
       "    </tr>\n",
       "  </thead>\n",
       "  <tbody>\n",
       "    <tr>\n",
       "      <th>19</th>\n",
       "      <td>0</td>\n",
       "      <td>0</td>\n",
       "      <td>0</td>\n",
       "      <td>0</td>\n",
       "      <td>0</td>\n",
       "      <td>0</td>\n",
       "      <td>0</td>\n",
       "      <td>0</td>\n",
       "      <td>0</td>\n",
       "      <td>0</td>\n",
       "      <td>...</td>\n",
       "      <td>0</td>\n",
       "      <td>0</td>\n",
       "      <td>0</td>\n",
       "      <td>0</td>\n",
       "      <td>0</td>\n",
       "      <td>0</td>\n",
       "      <td>0</td>\n",
       "      <td>0</td>\n",
       "      <td>0</td>\n",
       "      <td>0</td>\n",
       "    </tr>\n",
       "  </tbody>\n",
       "</table>\n",
       "<p>1 rows × 100 columns</p>\n",
       "</div>"
      ],
      "text/plain": [
       "    The Situation Room with Wolf Blitzer  NBC Nightly News  \\\n",
       "19                                     0                 0   \n",
       "\n",
       "    Dancing with the Stars  The Colbert Report  Larry King Live  \\\n",
       "19                       0                   0                0   \n",
       "\n",
       "    Everybody Loves Raymond  NHL Hockey  Campbell Brown: No Bias, No Bull  \\\n",
       "19                        0           0                                 0   \n",
       "\n",
       "    NBA Basketball  Two and a Half Men  ...  CSI: NY  \\\n",
       "19               0                   0  ...        0   \n",
       "\n",
       "    The Biggest Loser 7: Couples  Naked Science  Meet the Press  Early Today  \\\n",
       "19                             0              0               0            0   \n",
       "\n",
       "    Gangland  FOX 28 News at 10pm  That '70s Show  Frasier  Sex and the City  \n",
       "19         0                    0               0        0                 0  \n",
       "\n",
       "[1 rows x 100 columns]"
      ]
     },
     "execution_count": 6,
     "metadata": {},
     "output_type": "execute_result"
    }
   ],
   "source": [
    "#replacing the data with zero's for prediction\n",
    "data.iloc[19:20,0:100] = 0\n",
    "data.iloc[19:20,0:100]"
   ]
  },
  {
   "cell_type": "code",
   "execution_count": 7,
   "metadata": {},
   "outputs": [
    {
     "name": "stdout",
     "output_type": "stream",
     "text": [
      "(9985, 563) (563, 9985)\n"
     ]
    }
   ],
   "source": [
    "#R and R transpose\n",
    "r = data.to_numpy()\n",
    "r_t = np.transpose(r)\n",
    "print(r.shape,r_t.shape)"
   ]
  },
  {
   "cell_type": "code",
   "execution_count": 8,
   "metadata": {},
   "outputs": [],
   "source": [
    "#P and Q are calculated\n",
    "user_num = np.matmul(r,r_t)\n",
    "item_num = np.matmul(r_t,r)\n",
    "p =np.diag(np.diag(user_num))\n",
    "q =np.diag(np.diag(item_num))"
   ]
  },
  {
   "cell_type": "code",
   "execution_count": 9,
   "metadata": {},
   "outputs": [],
   "source": [
    "#calculating P and Q\n",
    "p_modif = np.diag(np.apply_along_axis(lambda x: 1/np.sqrt(x),0,np.diag(user_num)))\n",
    "q_modif = np.diag(np.apply_along_axis(lambda x: 1/np.sqrt(x),0,np.diag(item_num)))"
   ]
  },
  {
   "cell_type": "code",
   "execution_count": null,
   "metadata": {},
   "outputs": [],
   "source": [
    "#Similarity matrices for user and item are calculated as given \n",
    "user_sim = np.matmul(p_modif,np.matmul(user_num,p_modif))\n",
    "item_sim = np.matmul(q_modif,np.matmul(item_num,q_modif))"
   ]
  },
  {
   "cell_type": "code",
   "execution_count": 13,
   "metadata": {},
   "outputs": [],
   "source": [
    "#user-user and item-item collaborative filtering matrices are calculated\n",
    "t_user = np.matmul(user_sim,r)\n",
    "t_item = np.matmul(r,item_sim)"
   ]
  },
  {
   "cell_type": "code",
   "execution_count": 17,
   "metadata": {},
   "outputs": [],
   "source": [
    "actual_ser= pd.Series(actuals_100)"
   ]
  },
  {
   "cell_type": "code",
   "execution_count": 18,
   "metadata": {},
   "outputs": [
    {
     "name": "stdout",
     "output_type": "stream",
     "text": [
      "[565.55436291 583.33467939 588.91414003 664.95697731 666.48282352]\n"
     ]
    },
    {
     "data": {
      "text/plain": [
       "2     SpongeBob SquarePants\n",
       "9           NBC 4 at Eleven\n",
       "17               Family Guy\n",
       "18      FOX 28 News at 10pm\n",
       "dtype: object"
      ]
     },
     "execution_count": 18,
     "metadata": {},
     "output_type": "execute_result"
    }
   ],
   "source": [
    "#top 5 similarity scores and shows for user 20 with user user collaborative filtering\n",
    "print(t_user[19,np.argsort(t_user[19,0:100])[-5:]])\n",
    "user_pred = data.columns[np.argsort(t_user[19,0:100])[-5:]].tolist()\n",
    "user_pred"
   ]
  },
  {
   "cell_type": "code",
   "execution_count": 19,
   "metadata": {},
   "outputs": [
    {
     "name": "stdout",
     "output_type": "stream",
     "text": [
      "[14.92462179 14.92758855 14.95429518 15.24734543 15.3857092 ]\n"
     ]
    },
    {
     "data": {
      "text/plain": [
       "2     SpongeBob SquarePants\n",
       "11           Wow Wow Wubbzy\n",
       "17               Family Guy\n",
       "18      FOX 28 News at 10pm\n",
       "dtype: object"
      ]
     },
     "execution_count": 19,
     "metadata": {},
     "output_type": "execute_result"
    }
   ],
   "source": [
    "#top 5 similarity scores and shows for user 20 with item item collaborative filtering\n",
    "print(t_item[19,np.argsort(t_item[19,0:100])[-5:]])\n",
    "item_pred= data.columns[np.argsort(t_item[19,0:100])[-5:]].tolist()\n",
    "item_pred"
   ]
  },
  {
   "cell_type": "code",
   "execution_count": 63,
   "metadata": {},
   "outputs": [],
   "source": [
    "#calculating TPR curve points\n",
    "user_tpr = []\n",
    "item_tpr = []\n",
    "for i in range(1,20):\n",
    "    user_pred = data.columns[np.argsort(t_user[19,0:100])[-i:]].tolist()\n",
    "    item_pred= data.columns[np.argsort(t_item[19,0:100])[-i:]].tolist()\n",
    "    user_tpr.append(len(actual_ser[pd.Series.isin(actual_ser,user_pred)])/len(actual_ser))\n",
    "    item_tpr.append(len(actual_ser[pd.Series.isin(actual_ser,item_pred)])/len(actual_ser))"
   ]
  },
  {
   "cell_type": "code",
   "execution_count": 91,
   "metadata": {},
   "outputs": [
    {
     "data": {
      "image/png": "[encoded data removed]",
      "text/plain": [
       "<Figure size 720x432 with 1 Axes>"
      ]
     },
     "metadata": {
      "needs_background": "light"
     },
     "output_type": "display_data"
    }
   ],
   "source": [
    "fig = plt.figure(figsize=(10,6))\n",
    "plt.plot(range(1,20),user_tpr,'r',label='user')\n",
    "plt.plot(range(1,20),item_tpr,'b',label='item')\n",
    "plt.xlabel('K')\n",
    "plt.ylabel('TPR')\n",
    "plt.grid()\n",
    "plt.xticks(np.arange(1,20,2))\n",
    "plt.legend()\n",
    "plt.show()"
   ]
  },
  {
   "cell_type": "code",
   "execution_count": null,
   "metadata": {},
   "outputs": [],
   "source": []
  },
  {
   "cell_type": "code",
   "execution_count": null,
   "metadata": {},
   "outputs": [],
   "source": []
  }
 ],
 "metadata": {
  "kernelspec": {
   "display_name": "Python 3",
   "language": "python",
   "name": "python3"
  },
  "language_info": {
   "codemirror_mode": {
    "name": "ipython",
    "version": 3
   },
   "file_extension": ".py",
   "mimetype": "text/x-python",
   "name": "python",
   "nbconvert_exporter": "python",
   "pygments_lexer": "ipython3",
   "version": "3.7.5"
  }
 },
 "nbformat": 4,
 "nbformat_minor": 2
}

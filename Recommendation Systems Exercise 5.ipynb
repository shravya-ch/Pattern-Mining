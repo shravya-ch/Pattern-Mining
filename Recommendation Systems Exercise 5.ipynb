{
 "cells": [
  {
   "cell_type": "code",
   "execution_count": 2,
   "metadata": {},
   "outputs": [],
   "source": [
    "#CS19MDS11017\n",
    "#Shravya Ch\n",
    "#recommendation systems assignment exercise 5"
   ]
  },
  {
   "cell_type": "code",
   "execution_count": 1,
   "metadata": {},
   "outputs": [],
   "source": [
    "#importing packages\n",
    "import pandas as pd \n",
    "import numpy as np \n",
    "import seaborn as sns\n",
    "import matplotlib.pyplot as plt\n",
    "%matplotlib inline"
   ]
  },
  {
   "cell_type": "code",
   "execution_count": 6,
   "metadata": {},
   "outputs": [
    {
     "data": {
      "text/html": [
       "<div>\n",
       "<style scoped>\n",
       "    .dataframe tbody tr th:only-of-type {\n",
       "        vertical-align: middle;\n",
       "    }\n",
       "\n",
       "    .dataframe tbody tr th {\n",
       "        vertical-align: top;\n",
       "    }\n",
       "\n",
       "    .dataframe thead th {\n",
       "        text-align: right;\n",
       "    }\n",
       "</style>\n",
       "<table border=\"1\" class=\"dataframe\">\n",
       "  <thead>\n",
       "    <tr style=\"text-align: right;\">\n",
       "      <th></th>\n",
       "      <th>The Situation Room with Wolf Blitzer</th>\n",
       "      <th>NBC Nightly News</th>\n",
       "      <th>Dancing with the Stars</th>\n",
       "      <th>The Colbert Report</th>\n",
       "      <th>Larry King Live</th>\n",
       "      <th>Everybody Loves Raymond</th>\n",
       "      <th>NHL Hockey</th>\n",
       "      <th>Campbell Brown: No Bias, No Bull</th>\n",
       "      <th>NBA Basketball</th>\n",
       "      <th>Two and a Half Men</th>\n",
       "      <th>...</th>\n",
       "      <th>Dragon Tales</th>\n",
       "      <th>FOX News Sunday with Chris Wallace</th>\n",
       "      <th>Boston Legal</th>\n",
       "      <th>The Wedding Date</th>\n",
       "      <th>Intervention</th>\n",
       "      <th>The Unusuals</th>\n",
       "      <th>The People's Court</th>\n",
       "      <th>Never Back Down</th>\n",
       "      <th>Da Vinci's Inquest</th>\n",
       "      <th>Cardinals Live</th>\n",
       "    </tr>\n",
       "  </thead>\n",
       "  <tbody>\n",
       "    <tr>\n",
       "      <th>0</th>\n",
       "      <td>1</td>\n",
       "      <td>1</td>\n",
       "      <td>1</td>\n",
       "      <td>1</td>\n",
       "      <td>1</td>\n",
       "      <td>1</td>\n",
       "      <td>1</td>\n",
       "      <td>1</td>\n",
       "      <td>1</td>\n",
       "      <td>1</td>\n",
       "      <td>...</td>\n",
       "      <td>0</td>\n",
       "      <td>0</td>\n",
       "      <td>0</td>\n",
       "      <td>0</td>\n",
       "      <td>0</td>\n",
       "      <td>0</td>\n",
       "      <td>0</td>\n",
       "      <td>0</td>\n",
       "      <td>0</td>\n",
       "      <td>0</td>\n",
       "    </tr>\n",
       "    <tr>\n",
       "      <th>1</th>\n",
       "      <td>0</td>\n",
       "      <td>0</td>\n",
       "      <td>0</td>\n",
       "      <td>0</td>\n",
       "      <td>0</td>\n",
       "      <td>0</td>\n",
       "      <td>0</td>\n",
       "      <td>0</td>\n",
       "      <td>0</td>\n",
       "      <td>0</td>\n",
       "      <td>...</td>\n",
       "      <td>0</td>\n",
       "      <td>0</td>\n",
       "      <td>0</td>\n",
       "      <td>0</td>\n",
       "      <td>0</td>\n",
       "      <td>0</td>\n",
       "      <td>0</td>\n",
       "      <td>0</td>\n",
       "      <td>0</td>\n",
       "      <td>0</td>\n",
       "    </tr>\n",
       "    <tr>\n",
       "      <th>2</th>\n",
       "      <td>0</td>\n",
       "      <td>0</td>\n",
       "      <td>0</td>\n",
       "      <td>0</td>\n",
       "      <td>0</td>\n",
       "      <td>0</td>\n",
       "      <td>0</td>\n",
       "      <td>0</td>\n",
       "      <td>0</td>\n",
       "      <td>1</td>\n",
       "      <td>...</td>\n",
       "      <td>0</td>\n",
       "      <td>0</td>\n",
       "      <td>0</td>\n",
       "      <td>0</td>\n",
       "      <td>0</td>\n",
       "      <td>0</td>\n",
       "      <td>0</td>\n",
       "      <td>0</td>\n",
       "      <td>0</td>\n",
       "      <td>0</td>\n",
       "    </tr>\n",
       "    <tr>\n",
       "      <th>3</th>\n",
       "      <td>0</td>\n",
       "      <td>0</td>\n",
       "      <td>0</td>\n",
       "      <td>0</td>\n",
       "      <td>0</td>\n",
       "      <td>0</td>\n",
       "      <td>0</td>\n",
       "      <td>0</td>\n",
       "      <td>0</td>\n",
       "      <td>0</td>\n",
       "      <td>...</td>\n",
       "      <td>0</td>\n",
       "      <td>0</td>\n",
       "      <td>0</td>\n",
       "      <td>0</td>\n",
       "      <td>0</td>\n",
       "      <td>0</td>\n",
       "      <td>0</td>\n",
       "      <td>0</td>\n",
       "      <td>0</td>\n",
       "      <td>0</td>\n",
       "    </tr>\n",
       "    <tr>\n",
       "      <th>4</th>\n",
       "      <td>1</td>\n",
       "      <td>1</td>\n",
       "      <td>0</td>\n",
       "      <td>0</td>\n",
       "      <td>1</td>\n",
       "      <td>0</td>\n",
       "      <td>0</td>\n",
       "      <td>0</td>\n",
       "      <td>0</td>\n",
       "      <td>0</td>\n",
       "      <td>...</td>\n",
       "      <td>0</td>\n",
       "      <td>0</td>\n",
       "      <td>0</td>\n",
       "      <td>0</td>\n",
       "      <td>0</td>\n",
       "      <td>0</td>\n",
       "      <td>0</td>\n",
       "      <td>0</td>\n",
       "      <td>0</td>\n",
       "      <td>0</td>\n",
       "    </tr>\n",
       "  </tbody>\n",
       "</table>\n",
       "<p>5 rows × 563 columns</p>\n",
       "</div>"
      ],
      "text/plain": [
       "   The Situation Room with Wolf Blitzer  NBC Nightly News  \\\n",
       "0                                     1                 1   \n",
       "1                                     0                 0   \n",
       "2                                     0                 0   \n",
       "3                                     0                 0   \n",
       "4                                     1                 1   \n",
       "\n",
       "   Dancing with the Stars  The Colbert Report  Larry King Live  \\\n",
       "0                       1                   1                1   \n",
       "1                       0                   0                0   \n",
       "2                       0                   0                0   \n",
       "3                       0                   0                0   \n",
       "4                       0                   0                1   \n",
       "\n",
       "   Everybody Loves Raymond  NHL Hockey  Campbell Brown: No Bias, No Bull  \\\n",
       "0                        1           1                                 1   \n",
       "1                        0           0                                 0   \n",
       "2                        0           0                                 0   \n",
       "3                        0           0                                 0   \n",
       "4                        0           0                                 0   \n",
       "\n",
       "   NBA Basketball  Two and a Half Men  ...  Dragon Tales  \\\n",
       "0               1                   1  ...             0   \n",
       "1               0                   0  ...             0   \n",
       "2               0                   1  ...             0   \n",
       "3               0                   0  ...             0   \n",
       "4               0                   0  ...             0   \n",
       "\n",
       "   FOX News Sunday with Chris Wallace  Boston Legal  The Wedding Date  \\\n",
       "0                                   0             0                 0   \n",
       "1                                   0             0                 0   \n",
       "2                                   0             0                 0   \n",
       "3                                   0             0                 0   \n",
       "4                                   0             0                 0   \n",
       "\n",
       "   Intervention  The Unusuals  The People's Court  Never Back Down  \\\n",
       "0             0             0                   0                0   \n",
       "1             0             0                   0                0   \n",
       "2             0             0                   0                0   \n",
       "3             0             0                   0                0   \n",
       "4             0             0                   0                0   \n",
       "\n",
       "   Da Vinci's Inquest  Cardinals Live  \n",
       "0                   0               0  \n",
       "1                   0               0  \n",
       "2                   0               0  \n",
       "3                   0               0  \n",
       "4                   0               0  \n",
       "\n",
       "[5 rows x 563 columns]"
      ]
     },
     "execution_count": 6,
     "metadata": {},
     "output_type": "execute_result"
    }
   ],
   "source": [
    "#reading the data and items as columns for dataframe\n",
    "data = pd.read_csv('C://Users//home//Downloads//dataset//user-shows.txt',header = None,sep=' ')\n",
    "cols = pd.read_csv('C://Users//home//Downloads//dataset//shows.txt',header = None)\n",
    "data.columns = list(cols[0])\n",
    "data.head()"
   ]
  },
  {
   "cell_type": "code",
   "execution_count": 3,
   "metadata": {},
   "outputs": [
    {
     "data": {
      "text/plain": [
       "(9985, 563)"
      ]
     },
     "execution_count": 3,
     "metadata": {},
     "output_type": "execute_result"
    }
   ],
   "source": [
    "data.shape"
   ]
  },
  {
   "cell_type": "code",
   "execution_count": 115,
   "metadata": {},
   "outputs": [
    {
     "name": "stdout",
     "output_type": "stream",
     "text": [
      "(9985, 563) (563, 9985)\n"
     ]
    }
   ],
   "source": [
    "#R and R transpose\n",
    "r = data.to_numpy()\n",
    "r_t = np.transpose(r)\n",
    "print(r.shape,r_t.shape)"
   ]
  },
  {
   "cell_type": "code",
   "execution_count": 116,
   "metadata": {},
   "outputs": [],
   "source": [
    "#P and Q are calculated\n",
    "user_num = np.matmul(r,r_t)\n",
    "item_num = np.matmul(r_t,r)\n",
    "p =np.diag(np.diag(user_num))\n",
    "q =np.diag(np.diag(item_num))"
   ]
  },
  {
   "cell_type": "code",
   "execution_count": 117,
   "metadata": {},
   "outputs": [],
   "source": [
    "#calculating P and Q\n",
    "p_modif = np.diag(np.apply_along_axis(lambda x: 1/np.sqrt(x),0,np.diag(user_num)))\n",
    "q_modif = np.diag(np.apply_along_axis(lambda x: 1/np.sqrt(x),0,np.diag(item_num)))"
   ]
  },
  {
   "cell_type": "code",
   "execution_count": 118,
   "metadata": {},
   "outputs": [],
   "source": [
    "#Similarity matrices for user and item are calculated as given \n",
    "user_sim = np.matmul(p_modif,np.matmul(user_num,p_modif))\n",
    "item_sim = np.matmul(q_modif,np.matmul(item_num,q_modif))"
   ]
  },
  {
   "cell_type": "code",
   "execution_count": 119,
   "metadata": {},
   "outputs": [],
   "source": [
    "#user-user and item-item collaborative filtering matrices are calculated\n",
    "t_user = np.matmul(user_sim,r)\n",
    "t_item = np.matmul(r,item_sim)"
   ]
  },
  {
   "cell_type": "code",
   "execution_count": 21,
   "metadata": {},
   "outputs": [
    {
     "data": {
      "text/plain": [
       "(array([ 96,  74, 140,  45,  60, 156,  68,  35, 137, 326]),\n",
       " ['FOX 28 News at 10pm',\n",
       "  'Family Guy',\n",
       "  '10TV News HD at 11pm',\n",
       "  '2009 NCAA Basketball Tournament',\n",
       "  'NBC 4 at Eleven',\n",
       "  'Seinfeld',\n",
       "  'Today',\n",
       "  'SpongeBob SquarePants',\n",
       "  '10TV Eyewitness News at 5:00',\n",
       "  '10TV Eyewitness News at 6:00'])"
      ]
     },
     "execution_count": 21,
     "metadata": {},
     "output_type": "execute_result"
    }
   ],
   "source": [
    "#recommended top 10 shows for user 20 using user-user collaborative filtering\n",
    "user_user= np.flip(np.argsort(t_user[19])[-10:])\n",
    "user_user,data.columns[user_user].tolist()"
   ]
  },
  {
   "cell_type": "code",
   "execution_count": 22,
   "metadata": {},
   "outputs": [
    {
     "data": {
      "text/plain": [
       "(array([144,  96,  35,  74, 155, 173, 205,  63, 140, 145]),\n",
       " ['Dora, the Explorer',\n",
       "  'FOX 28 News at 10pm',\n",
       "  'SpongeBob SquarePants',\n",
       "  'Family Guy',\n",
       "  'Ni Hao, Kai-Lan',\n",
       "  'Wonder Pets!',\n",
       "  'The Backyardigans',\n",
       "  'Wow Wow Wubbzy',\n",
       "  '10TV News HD at 11pm',\n",
       "  'Go, Diego, Go!'])"
      ]
     },
     "execution_count": 22,
     "metadata": {},
     "output_type": "execute_result"
    }
   ],
   "source": [
    "#recommended top 10 shows for user 20 using item-item collaborative filtering\n",
    "item_item = np.flip(np.argsort(t_item[19])[-10:])\n",
    "item_item,data.columns[item_item].tolist()"
   ]
  },
  {
   "cell_type": "code",
   "execution_count": 12,
   "metadata": {},
   "outputs": [],
   "source": [
    "from scipy.stats import kendalltau"
   ]
  },
  {
   "cell_type": "code",
   "execution_count": 23,
   "metadata": {},
   "outputs": [
    {
     "data": {
      "text/plain": [
       "KendalltauResult(correlation=0.19999999999999998, pvalue=0.4843127204585538)"
      ]
     },
     "execution_count": 23,
     "metadata": {},
     "output_type": "execute_result"
    }
   ],
   "source": [
    "#kendall rank coefficient for user-user and item-item\n",
    "kendalltau(user_user,item_item)"
   ]
  },
  {
   "cell_type": "code",
   "execution_count": null,
   "metadata": {},
   "outputs": [],
   "source": [
    "#saving the file in format for MyMediaLite  \n",
    "pd.DataFrame(data=np.array(ind).transpose()).to_csv(\"C://Users//home//Downloads//train.csv\")"
   ]
  },
  {
   "cell_type": "code",
   "execution_count": 2,
   "metadata": {},
   "outputs": [],
   "source": [
    "#reading the prediction file ,predictions from MyMediaLite\n",
    "rank = pd.read_csv(\"C://Users//home//Downloads//MyMediaLite-3.11//lib//mymedialite//predicth.txt\",sep='\\t',header=None)"
   ]
  },
  {
   "cell_type": "code",
   "execution_count": 3,
   "metadata": {},
   "outputs": [
    {
     "data": {
      "text/html": [
       "<div>\n",
       "<style scoped>\n",
       "    .dataframe tbody tr th:only-of-type {\n",
       "        vertical-align: middle;\n",
       "    }\n",
       "\n",
       "    .dataframe tbody tr th {\n",
       "        vertical-align: top;\n",
       "    }\n",
       "\n",
       "    .dataframe thead th {\n",
       "        text-align: right;\n",
       "    }\n",
       "</style>\n",
       "<table border=\"1\" class=\"dataframe\">\n",
       "  <thead>\n",
       "    <tr style=\"text-align: right;\">\n",
       "      <th></th>\n",
       "      <th>0</th>\n",
       "      <th>1</th>\n",
       "    </tr>\n",
       "  </thead>\n",
       "  <tbody>\n",
       "    <tr>\n",
       "      <th>0</th>\n",
       "      <td>0</td>\n",
       "      <td>[520:0.2594911,471:0.2493659,479:0.2445541,151...</td>\n",
       "    </tr>\n",
       "    <tr>\n",
       "      <th>1</th>\n",
       "      <td>1</td>\n",
       "      <td>[174:0.1820814,191:0.1699065,189:0.1687232,118...</td>\n",
       "    </tr>\n",
       "    <tr>\n",
       "      <th>2</th>\n",
       "      <td>2</td>\n",
       "      <td>[209:0.3720511,256:0.3525813,300:0.3466443,148...</td>\n",
       "    </tr>\n",
       "    <tr>\n",
       "      <th>3</th>\n",
       "      <td>3</td>\n",
       "      <td>[405:0.1483086,286:0.1478028,560:0.1445312,254...</td>\n",
       "    </tr>\n",
       "    <tr>\n",
       "      <th>4</th>\n",
       "      <td>4</td>\n",
       "      <td>[47:0.1582297,23:0.1521604,7:0.150713,134:0.15...</td>\n",
       "    </tr>\n",
       "  </tbody>\n",
       "</table>\n",
       "</div>"
      ],
      "text/plain": [
       "   0                                                  1\n",
       "0  0  [520:0.2594911,471:0.2493659,479:0.2445541,151...\n",
       "1  1  [174:0.1820814,191:0.1699065,189:0.1687232,118...\n",
       "2  2  [209:0.3720511,256:0.3525813,300:0.3466443,148...\n",
       "3  3  [405:0.1483086,286:0.1478028,560:0.1445312,254...\n",
       "4  4  [47:0.1582297,23:0.1521604,7:0.150713,134:0.15..."
      ]
     },
     "execution_count": 3,
     "metadata": {},
     "output_type": "execute_result"
    }
   ],
   "source": [
    "rank.head()"
   ]
  },
  {
   "cell_type": "code",
   "execution_count": 4,
   "metadata": {},
   "outputs": [],
   "source": [
    "#processing the data for user 20 \n",
    "x= rank[1].iloc[19].split(',')\n",
    "result =[]\n",
    "for i,p in zip(range(0,len(x)),x):\n",
    "    if i==0:\n",
    "        result.append(int(p.split('[')[1].split(':')[0]))\n",
    "    elif i==(len(x)-1):\n",
    "        result.append(int(p.split(']')[0].split(':')[0]))\n",
    "    else:\n",
    "        result.append(int(p.split(\":\")[0]))"
   ]
  },
  {
   "cell_type": "code",
   "execution_count": 7,
   "metadata": {},
   "outputs": [
    {
     "data": {
      "text/plain": [
       "(array([234,  48,  37, 543, 490, 477, 280, 553, 489, 222]),\n",
       " [\"Jack's Big Music Show\",\n",
       "  'Max and Ruby',\n",
       "  'Curious George',\n",
       "  'Sesame Street',\n",
       "  'Clifford the Big Red Dog',\n",
       "  'The NewsHour with Jim Lehrer',\n",
       "  'Olivia',\n",
       "  'Dragon Tales',\n",
       "  'Caillou',\n",
       "  'Little Einsteins'])"
      ]
     },
     "execution_count": 7,
     "metadata": {},
     "output_type": "execute_result"
    }
   ],
   "source": [
    "#recommendeed top 10 shows for user 20 using ItemKNN recommender\n",
    "np.array(result)[0:10],data.columns[np.array(result)[0:10]].tolist()"
   ]
  },
  {
   "cell_type": "code",
   "execution_count": 13,
   "metadata": {},
   "outputs": [
    {
     "name": "stdout",
     "output_type": "stream",
     "text": [
      "KendalltauResult(correlation=-0.022222222222222223, pvalue=1.0) KendalltauResult(correlation=-0.5555555555555555, pvalue=0.02860945767195767)\n"
     ]
    }
   ],
   "source": [
    "#kendall rank coefficient for (item-item,ItemKNN) and (user-user,Item-KNN)\n",
    "print(kendalltau(item_item,np.array(result)[0:10]),\n",
    "      kendalltau(user_user,np.array(result)[0:10]))"
   ]
  },
  {
   "cell_type": "code",
   "execution_count": 14,
   "metadata": {},
   "outputs": [],
   "source": [
    "#reading predictions from WRMF recommender\n",
    "rank_wrmf = pd.read_csv(\"C://Users//home//Downloads//MyMediaLite-3.11//lib//mymedialite//predict_wrmf.txt\",sep='\\t',header=None)"
   ]
  },
  {
   "cell_type": "code",
   "execution_count": 15,
   "metadata": {},
   "outputs": [
    {
     "data": {
      "text/html": [
       "<div>\n",
       "<style scoped>\n",
       "    .dataframe tbody tr th:only-of-type {\n",
       "        vertical-align: middle;\n",
       "    }\n",
       "\n",
       "    .dataframe tbody tr th {\n",
       "        vertical-align: top;\n",
       "    }\n",
       "\n",
       "    .dataframe thead th {\n",
       "        text-align: right;\n",
       "    }\n",
       "</style>\n",
       "<table border=\"1\" class=\"dataframe\">\n",
       "  <thead>\n",
       "    <tr style=\"text-align: right;\">\n",
       "      <th></th>\n",
       "      <th>0</th>\n",
       "      <th>1</th>\n",
       "    </tr>\n",
       "  </thead>\n",
       "  <tbody>\n",
       "    <tr>\n",
       "      <th>0</th>\n",
       "      <td>0</td>\n",
       "      <td>[117:0.7038108,45:0.6045014,46:0.5848253,82:0....</td>\n",
       "    </tr>\n",
       "    <tr>\n",
       "      <th>1</th>\n",
       "      <td>1</td>\n",
       "      <td>[11:0.4805392,384:0.4490533,177:0.4112435,8:0....</td>\n",
       "    </tr>\n",
       "    <tr>\n",
       "      <th>2</th>\n",
       "      <td>2</td>\n",
       "      <td>[125:0.6775061,148:0.6553589,156:0.6426778,1:0...</td>\n",
       "    </tr>\n",
       "    <tr>\n",
       "      <th>3</th>\n",
       "      <td>3</td>\n",
       "      <td>[155:0.4083053,173:0.3879905,48:0.3827862,145:...</td>\n",
       "    </tr>\n",
       "    <tr>\n",
       "      <th>4</th>\n",
       "      <td>4</td>\n",
       "      <td>[11:0.4503127,384:0.4427823,57:0.4091523,8:0.4...</td>\n",
       "    </tr>\n",
       "  </tbody>\n",
       "</table>\n",
       "</div>"
      ],
      "text/plain": [
       "   0                                                  1\n",
       "0  0  [117:0.7038108,45:0.6045014,46:0.5848253,82:0....\n",
       "1  1  [11:0.4805392,384:0.4490533,177:0.4112435,8:0....\n",
       "2  2  [125:0.6775061,148:0.6553589,156:0.6426778,1:0...\n",
       "3  3  [155:0.4083053,173:0.3879905,48:0.3827862,145:...\n",
       "4  4  [11:0.4503127,384:0.4427823,57:0.4091523,8:0.4..."
      ]
     },
     "execution_count": 15,
     "metadata": {},
     "output_type": "execute_result"
    }
   ],
   "source": [
    "rank_wrmf.head()"
   ]
  },
  {
   "cell_type": "code",
   "execution_count": 16,
   "metadata": {},
   "outputs": [],
   "source": [
    "x= rank_wrmf[1].iloc[19].split(',')\n",
    "result_wrmf =[]\n",
    "for i,p in zip(range(0,len(x)),x):\n",
    "    if i==0:\n",
    "        result_wrmf.append(int(p.split('[')[1].split(':')[0]))\n",
    "    elif i==(len(x)-1):\n",
    "        result_wrmf.append(int(p.split(']')[0].split(':')[0]))\n",
    "    else:\n",
    "        result_wrmf.append(int(p.split(\":\")[0]))"
   ]
  },
  {
   "cell_type": "code",
   "execution_count": 19,
   "metadata": {},
   "outputs": [
    {
     "data": {
      "text/plain": [
       "(array([ 48, 280,  77, 192, 208, 195, 207, 489, 222, 234]),\n",
       " ['Max and Ruby',\n",
       "  'Olivia',\n",
       "  \"Disney's Mickey Mouse Clubhouse\",\n",
       "  'Handy Manny',\n",
       "  'Tasty Time with ZeFronk',\n",
       "  'Imagination Movers',\n",
       "  'Happy Monster Band',\n",
       "  'Caillou',\n",
       "  'Little Einsteins',\n",
       "  \"Jack's Big Music Show\"])"
      ]
     },
     "execution_count": 19,
     "metadata": {},
     "output_type": "execute_result"
    }
   ],
   "source": [
    "#recommendeed top 10 shows for user 20 using WRMF recommender\n",
    "np.array(result_wrmf)[0:10],data.columns[np.array(result_wrmf)[0:10]].tolist()"
   ]
  },
  {
   "cell_type": "code",
   "execution_count": 24,
   "metadata": {},
   "outputs": [
    {
     "name": "stdout",
     "output_type": "stream",
     "text": [
      "KendalltauResult(correlation=-0.1111111111111111, pvalue=0.7274895282186948) KendalltauResult(correlation=-0.1111111111111111, pvalue=0.7274895282186948) KendalltauResult(correlation=0.1111111111111111, pvalue=0.7274895282186948)\n"
     ]
    }
   ],
   "source": [
    "#kendall rank coefficiet for (item-item,WRMF),(user-user,WRMF) and (ItemKNN,WRMF)\n",
    "print(kendalltau(item_item,np.array(result_wrmf)[0:10]),\n",
    "      kendalltau(user_user,np.array(result_wrmf)[0:10]),\n",
    "      kendalltau(np.array(result)[0:10],np.array(result_wrmf)[0:10]))"
   ]
  },
  {
   "cell_type": "code",
   "execution_count": null,
   "metadata": {},
   "outputs": [],
   "source": []
  }
 ],
 "metadata": {
  "kernelspec": {
   "display_name": "Python 3",
   "language": "python",
   "name": "python3"
  },
  "language_info": {
   "codemirror_mode": {
    "name": "ipython",
    "version": 3
   },
   "file_extension": ".py",
   "mimetype": "text/x-python",
   "name": "python",
   "nbconvert_exporter": "python",
   "pygments_lexer": "ipython3",
   "version": "3.7.5"
  }
 },
 "nbformat": 4,
 "nbformat_minor": 2
}
